{
 "cells": [
  {
   "cell_type": "code",
   "execution_count": 33,
   "id": "0a928292-809b-4147-8308-97bd9ac1d0f7",
   "metadata": {},
   "outputs": [
    {
     "name": "stdout",
     "output_type": "stream",
     "text": [
      "Directory: C:\\WinPython\\notebooks\\RB_Jupiter for BIM\n",
      "Processing C:\\WinPython\\notebooks\\RB_Jupiter for BIM\\VK_IKT29_ET_Revit.ifc\n",
      "Found 1814 entities in VK_IKT29_ET_Revit.ifc\n",
      "DATADROP - SUCCESS!\n"
     ]
    }
   ],
   "source": [
    "import os\n",
    "import ifcopenshell\n",
    "import pandas as pd\n",
    "\n",
    "# Directory where the IFC files are located\n",
    "directory_path = os.getcwd()\n",
    "print(f\"Directory: {directory_path}\")\n",
    "\n",
    "# Initialize lists to store the data\n",
    "data = []\n",
    "\n",
    "# Loop through all subfolders of the directory\n",
    "for root, dirs, files in os.walk(directory_path):\n",
    "    # Loop through all files in the current subfolder\n",
    "    for file in files:\n",
    "        # Check if the file has a .ifc extension\n",
    "        if file.endswith('.ifc'):\n",
    "            file_path = os.path.join(root, file)\n",
    "            print(f\"Processing {file_path}\")\n",
    "            \n",
    "            ifc_file = ifcopenshell.open(file_path)\n",
    "            entities = ifc_file.by_type(\"IfcProduct\")\n",
    "            print(f\"Found {len(entities)} entities in {file}\")\n",
    "\n",
    "            for entity in entities:\n",
    "                if hasattr(entity, 'IsDefinedBy'):\n",
    "                    for definition in entity.IsDefinedBy:\n",
    "                        if definition.is_a('IfcRelDefinesByProperties'):\n",
    "                            property_set = definition.RelatingPropertyDefinition\n",
    "                            \n",
    "                            if hasattr(property_set, 'HasProperties'):\n",
    "                                for property in property_set.HasProperties:\n",
    "                                    attribute_value = property.NominalValue.wrappedValue if hasattr(property, 'NominalValue') and property.NominalValue is not None else \"N/A\"\n",
    "                                    entity_data = {\n",
    "                                        'File': file,\n",
    "                                        'Entity': entity.is_a(),\n",
    "                                        'Attribute': property.Name,\n",
    "                                        'Value': attribute_value,\n",
    "                                        'GUID': entity.GlobalId\n",
    "                                    }\n",
    "                                    data.append(entity_data)\n",
    "                                    #print(f\"Data added for entity {entity.GlobalId}\")\n",
    "\n",
    "\n",
    "# Convert the list into a pandas dataframe\n",
    "df = pd.DataFrame(data)\n",
    "\n",
    "# Group the dataframe by GUID and Attribute\n",
    "grouped = df.groupby(['GUID', 'Attribute']).agg({'Value': 'first'})\n",
    "grouped = grouped.unstack()\n",
    "grouped.columns = grouped.columns.droplevel()\n",
    "\n",
    "\n",
    "# Save the updated dataframe to an Excel file\n",
    "excel_file_path = os.path.join(directory_path, \"datadrop.xlsx\")\n",
    "grouped.to_excel(excel_file_path, index=False)\n",
    "\n",
    "print(\"DATADROP - SUCCESS!\")\n"
   ]
  },
  {
   "cell_type": "code",
   "execution_count": null,
   "id": "dca3db69-0332-4d45-8185-38427f3c4005",
   "metadata": {},
   "outputs": [],
   "source": [
    "\n"
   ]
  },
  {
   "cell_type": "code",
   "execution_count": null,
   "id": "fcc5dbb7-cd5a-455b-880c-5cf1948f8fe5",
   "metadata": {},
   "outputs": [],
   "source": []
  }
 ],
 "metadata": {
  "kernelspec": {
   "display_name": "Python 3",
   "language": "python",
   "name": "python3"
  },
  "language_info": {
   "codemirror_mode": {
    "name": "ipython",
    "version": 3
   },
   "file_extension": ".py",
   "mimetype": "text/x-python",
   "name": "python",
   "nbconvert_exporter": "python",
   "pygments_lexer": "ipython3",
   "version": "3.9.5"
  }
 },
 "nbformat": 4,
 "nbformat_minor": 5
}
